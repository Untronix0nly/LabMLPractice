{
 "cells": [
  {
   "cell_type": "code",
   "execution_count": 1,
   "metadata": {},
   "outputs": [
    {
     "name": "stdout",
     "output_type": "stream",
     "text": [
      "Successfully downloaded train-images-idx3-ubyte.gz 9912422 bytes.\n",
      "Extracting MNIST_data/train-images-idx3-ubyte.gz\n",
      "Successfully downloaded train-labels-idx1-ubyte.gz 28881 bytes.\n",
      "Extracting MNIST_data/train-labels-idx1-ubyte.gz\n",
      "Successfully downloaded t10k-images-idx3-ubyte.gz 1648877 bytes.\n",
      "Extracting MNIST_data/t10k-images-idx3-ubyte.gz\n",
      "Successfully downloaded t10k-labels-idx1-ubyte.gz 4542 bytes.\n",
      "Extracting MNIST_data/t10k-labels-idx1-ubyte.gz\n",
      "0.9152\n"
     ]
    }
   ],
   "source": [
    "import tensorflow as tf\n",
    "from tensorflow.examples.tutorials.mnist import input_data\n",
    "mnist = input_data.read_data_sets(\"MNIST_data/\",one_hot = True)\n",
    "# [None,784] say as that first tensor's dimension is not fixed\n",
    "x = tf.placeholder(tf.float32,[None,784])\n",
    "# weight and bias\n",
    "\n",
    "W = tf.Variable(tf.zeros([784,10]))\n",
    "b = tf.Variable(tf.zeros([10]))\n",
    "# or model is softmax regression\n",
    "model = tf.nn.softmax(tf.matmul(x,W) + b)\n",
    "# our start labels\n",
    "labels = tf.placeholder(tf.float32,[None,10])\n",
    "# loss function\n",
    "cross_entropy = tf.reduce_mean(-tf.reduce_sum(labels*tf.log(model),reduction_indices = [1]))\n",
    "# learning's algorithm\n",
    "train_step = tf.train.GradientDescentOptimizer(0.5).minimize(cross_entropy)\n",
    "\n",
    "init = tf.global_variables_initializer()\n",
    "sess = tf.Session()\n",
    "sess.run(init)\n",
    "\n",
    "for idx in range(1000):\n",
    "    #choose 100 examples\n",
    "    batch_xs,batch_ys = mnist.train.next_batch(100)\n",
    "    sess.run(train_step,feed_dict = {x:batch_xs,labels:batch_ys})\n",
    "    \n",
    "correct_prediction = tf.equal(tf.argmax(model,1),tf.argmax(labels,1))\n",
    "accuracy = tf.reduce_mean(tf.cast(correct_prediction,tf.float32))\n",
    "print(sess.run(accuracy,feed_dict = {x:mnist.test.images,labels:mnist.test.labels}))\n",
    "# upgrade this\n",
    "\n"
   ]
  },
  {
   "cell_type": "code",
   "execution_count": 11,
   "metadata": {},
   "outputs": [
    {
     "name": "stdout",
     "output_type": "stream",
     "text": [
      "0.9418\n"
     ]
    }
   ],
   "source": [
    "# adding new layer\n",
    "# tf.truncated_normal return нормально распределенный вектор,нам нельзя инициализровать вектор нулями\n",
    "# так как RELU(0) = 0\n",
    "# в этом слое 100 нейронов\n",
    "Weight_RELU_layer = tf.Variable(tf.truncated_normal([784,100],stddev = 0.1))\n",
    "bias_RELU_layer = tf.Variable(tf.truncated_normal([100],stddev = 0.1))\n",
    "hidden_layer = tf.nn.relu(tf.matmul(x,Weight_RELU_layer) + bias_RELU_layer)\n",
    "#добавим дропаут- выбрасывает обнуляет выходы некоторых нейронов. Зададим вероятность их выбрасывания\n",
    "keep_probability = tf.placeholder(tf.float32)\n",
    "hidden_dropout_layer = tf.nn.dropout(hidden_layer,keep_probability)\n",
    "# remastered first layer\n",
    "\n",
    "W = tf.Variable(tf.zeros([100,10]))\n",
    "b = tf.Variable(tf.zeros([10]))\n",
    "\n",
    "model = tf.nn.softmax(tf.matmul(hidden_dropout_layer,W) + b)\n",
    "# our start labels\n",
    "labels = tf.placeholder(tf.float32,[None,10])\n",
    "# loss function\n",
    "cross_entropy = tf.reduce_mean(-tf.reduce_sum(labels*tf.log(model),reduction_indices = [1]))\n",
    "# learning's algorithm\n",
    "train_step = tf.train.GradientDescentOptimizer(0.5).minimize(cross_entropy)\n",
    "\n",
    "init = tf.global_variables_initializer()\n",
    "sess = tf.Session()\n",
    "sess.run(init)\n",
    "\n",
    "for idx in range(2000):\n",
    "    #choose 100 examples\n",
    "    batch_xs,batch_ys = mnist.train.next_batch(100)\n",
    "    sess.run(train_step,feed_dict = {x:batch_xs,labels:batch_ys,keep_probability: 1})\n",
    "    \n",
    "correct_prediction = tf.equal(tf.argmax(model,1),tf.argmax(labels,1))\n",
    "accuracy = tf.reduce_mean(tf.cast(correct_prediction,tf.float32))\n",
    "print(sess.run(accuracy,feed_dict = {x:mnist.test.images,labels:mnist.test.labels,keep_probability:0.8}))\n"
   ]
  }
 ],
 "metadata": {
  "kernelspec": {
   "display_name": "Python 3",
   "language": "python",
   "name": "python3"
  },
  "language_info": {
   "codemirror_mode": {
    "name": "ipython",
    "version": 3
   },
   "file_extension": ".py",
   "mimetype": "text/x-python",
   "name": "python",
   "nbconvert_exporter": "python",
   "pygments_lexer": "ipython3",
   "version": "3.6.3"
  }
 },
 "nbformat": 4,
 "nbformat_minor": 2
}
